{
  "nbformat": 4,
  "nbformat_minor": 0,
  "metadata": {
    "colab": {
      "name": "webscraping.ipynb",
      "provenance": []
    },
    "kernelspec": {
      "name": "python3",
      "display_name": "Python 3"
    }
  },
  "cells": [
    {
      "cell_type": "markdown",
      "metadata": {
        "id": "G5561TeULtwO"
      },
      "source": [
        "This program scrapes then news from news article & summarise them\n"
      ]
    },
    {
      "cell_type": "markdown",
      "metadata": {
        "id": "i814BbCpQ772"
      },
      "source": [
        "Importing Libraries"
      ]
    },
    {
      "cell_type": "code",
      "metadata": {
        "id": "2F8KHiywLyNh"
      },
      "source": [
        "import nltk\n",
        "from newspaper import Article"
      ],
      "execution_count": 11,
      "outputs": []
    },
    {
      "cell_type": "markdown",
      "metadata": {
        "id": "Qif671p0SD2b"
      },
      "source": [
        "Get the Article"
      ]
    },
    {
      "cell_type": "code",
      "metadata": {
        "id": "1_TbETshSBG-"
      },
      "source": [
        "url = 'https://www.reuters.com/article/ethiopia-conflict/ethiopia-war-may-turn-into-guerrilla-insurgency-idUSKBN28B58K'\n",
        "article = Article(url)"
      ],
      "execution_count": 12,
      "outputs": []
    },
    {
      "cell_type": "markdown",
      "metadata": {
        "id": "3R8Uz774SVnP"
      },
      "source": [
        "Natural Language Processing on the data"
      ]
    },
    {
      "cell_type": "code",
      "metadata": {
        "colab": {
          "base_uri": "https://localhost:8080/"
        },
        "id": "XDtYyCKkSGWp",
        "outputId": "492eddbe-2ea6-4432-8770-4b61e573d315"
      },
      "source": [
        "article.download()\n",
        "article.parse()\n",
        "nltk.download('punkt')\n",
        "article.nlp()"
      ],
      "execution_count": 13,
      "outputs": [
        {
          "output_type": "stream",
          "text": [
            "[nltk_data] Downloading package punkt to /root/nltk_data...\n",
            "[nltk_data]   Unzipping tokenizers/punkt.zip.\n"
          ],
          "name": "stdout"
        }
      ]
    },
    {
      "cell_type": "markdown",
      "metadata": {
        "id": "r2UG56yZSx6R"
      },
      "source": [
        "Identifying Authors"
      ]
    },
    {
      "cell_type": "code",
      "metadata": {
        "colab": {
          "base_uri": "https://localhost:8080/"
        },
        "id": "pKV_9pmISwUF",
        "outputId": "9f625d4b-46c6-4f57-9d44-2dba916ab79f"
      },
      "source": [
        "article.authors"
      ],
      "execution_count": 14,
      "outputs": [
        {
          "output_type": "execute_result",
          "data": {
            "text/plain": [
              "['Reuters Staff']"
            ]
          },
          "metadata": {
            "tags": []
          },
          "execution_count": 14
        }
      ]
    },
    {
      "cell_type": "markdown",
      "metadata": {
        "id": "LrJ7K6fnTEbM"
      },
      "source": [
        "Get Published Date"
      ]
    },
    {
      "cell_type": "code",
      "metadata": {
        "colab": {
          "base_uri": "https://localhost:8080/"
        },
        "id": "DVldqqCCTL4b",
        "outputId": "b23f63e3-7bd9-41ce-a0e8-5e873c8167c6"
      },
      "source": [
        "article.publish_date"
      ],
      "execution_count": 17,
      "outputs": [
        {
          "output_type": "execute_result",
          "data": {
            "text/plain": [
              "datetime.datetime(2020, 12, 1, 14, 18, 10, tzinfo=tzlocal())"
            ]
          },
          "metadata": {
            "tags": []
          },
          "execution_count": 17
        }
      ]
    },
    {
      "cell_type": "markdown",
      "metadata": {
        "id": "pe6IJDzPTgYM"
      },
      "source": [
        "Get Article feature Image"
      ]
    },
    {
      "cell_type": "code",
      "metadata": {
        "colab": {
          "base_uri": "https://localhost:8080/",
          "height": 35
        },
        "id": "f8NEyj5BTItn",
        "outputId": "16783945-5dd4-4d09-e368-cafa1a5c1cc1"
      },
      "source": [
        "article.top_image"
      ],
      "execution_count": 18,
      "outputs": [
        {
          "output_type": "execute_result",
          "data": {
            "application/vnd.google.colaboratory.intrinsic+json": {
              "type": "string"
            },
            "text/plain": [
              "'https://static.reuters.com/resources/r/?m=02&d=20201201&t=2&i=1543060022&r=LYNXMPEGB02VI&w=800'"
            ]
          },
          "metadata": {
            "tags": []
          },
          "execution_count": 18
        }
      ]
    },
    {
      "cell_type": "markdown",
      "metadata": {
        "id": "CnxvmBUmTuRB"
      },
      "source": [
        "Text from the article"
      ]
    },
    {
      "cell_type": "code",
      "metadata": {
        "colab": {
          "base_uri": "https://localhost:8080/"
        },
        "id": "waaQphh1TIyn",
        "outputId": "87731e8a-4fc0-438e-eed1-a945f58dbad5"
      },
      "source": [
        "r = article.text\n",
        "print(r)"
      ],
      "execution_count": 20,
      "outputs": [
        {
          "output_type": "stream",
          "text": [
            "ADDIS ABABA/NAIROBI (Reuters) - Ethiopia’s nearly month-long war against rebellious northern forces may be transforming into a guerrilla conflict, experts said on Tuesday, even though federal troops declared victory after capturing the Tigrayan regional capital at the weekend.\n",
            "\n",
            "A woman braids a girl's hair in the Hamdeyat refugee transit camp, which houses Ethiopian refugees fleeing the fighting in the Tigray region, on the Sudan-Ethiopia border, Sudan, November 30, 2020. REUTERS/Baz Ratner\n",
            "\n",
            "Fighting since Nov. 4 is believed to have killed thousands of people, as well as forcing refugees into Sudan, dragging in Eritrea, and worsening hunger and suffering among Tigray’s more than 5 million people.\n",
            "\n",
            "Reports of clashes between Prime Minister Abiy Ahmed’s soldiers and the Tigray People’s Liberation Front (TPLF) were still coming out of the region, though communications remain largely cut and outside access blocked.\n",
            "\n",
            "Abiy accuses the TPLF of treason, specifically for attacking an army base, while the Tigrayans say their ex-military comrade and partner in government wants to dominate their ethnic group for personal power. Both sides scoff at the other’s accusations.\n",
            "\n",
            "Federal forces took Tigray’s highland capital Mekelle in hours on Saturday. TPLF leaders fled to the hills, saying they were resisting and taking prisoners.\n",
            "\n",
            "Asked about ongoing fighting, TPLF head Debretsion Gebremichael said in a text: “Yes. On three directions. Two around Mekelle. One 50km away.”\n",
            "\n",
            "There was no immediate response from the government.\n",
            "\n",
            "Reuters has been unable to verify claims from both sides.\n",
            "\n",
            "SKIRMISHES CONTINUING\n",
            "\n",
            "Two regionally-run Tigrayan TV stations, including the TPLF’s “Dimtsi Woyane” (“Voice of the Revolution”), were still on air, although it was unclear where they were broadcasting from. Government-affiliated media have not yet broadcast any images from Mekelle.\n",
            "\n",
            "A United Nations aid worker in touch with people in Tigray said large areas remained outside federal control and fighting was still taking place on several fronts. There was still scant coordination with aid workers, the source added.\n",
            "\n",
            "“There are skirmishes continuing in many parts of Tigray and we are seeing the hallmarks of the beginning of an insurgency,” Horn of Africa expert Rashid Abdi told an online forum.\n",
            "\n",
            "“The terrain, geography and history suggest this will be a long, drawn-out insurgency.”\n",
            "\n",
            "Both the federal army and the TPLF have long military experience - from toppling a Marxist dictator in 1991 to fighting neighbouring Eritrea from 1998-2000.\n",
            "\n",
            "Though outnumbered and expelled from their capital, the Tigrayans can exploit their mountainous terrain and long borders with Sudan and Eritrea.\n",
            "\n",
            "REFUGEES\n",
            "\n",
            "The U.N. refugee agency appealed for access to 96,000 Eritrean refugees in Tigray, where food was thought to be running out.\n",
            "\n",
            "“Our extreme worry is that we hear about attacks, the fighting near the camps, we hear about abductions and forced removals,” spokesman Babar Baloch told a news briefing in Geneva.\n",
            "\n",
            "In a speech to parliament on Monday, Abiy urged the more than 45,000 Ethiopians who fled into Sudan to return.\n",
            "\n",
            "One aid worker in the area said numbers crossing to Sudan at the main transit point of Hamdayet were down to a trickle. Refugees were saying that Ethiopian militia and soldiers were trying to impede them, he said.\n",
            "\n",
            "“The accounts of the people are that it’s getting harder and harder to get to the border,” he said, adding that three refugees had also said there were flyers going round with messages not to speak in Tigrayan\n",
            "\n",
            "There was no immediate government response to those accusations, but federal officials vehemently deny discrimination against Tigrayans or harassment of civilians.\n",
            "\n",
            "Though Tigrayans make up only about 6% of Ethiopia’s 115 million people, they dominated national government for nearly three decades until Abiy took office in 2018.\n",
            "\n",
            "Abiy, whose parents are from the larger Oromo and Amharic groups, has been removing Tigrayans from government and military posts, saying they made up more than 60% of senior ranks and that other ethnicities should also be represented.\n",
            "\n",
            "Last year, Abiy won the Nobel Peace Prize for ending a two-decade border standoff with Eritrea. The TPLF has fired rockets towards Eritrea’s capital Asmara during the conflict.\n"
          ],
          "name": "stdout"
        }
      ]
    },
    {
      "cell_type": "markdown",
      "metadata": {
        "id": "XVr3h3f7UBdH"
      },
      "source": [
        "Summarising article"
      ]
    },
    {
      "cell_type": "code",
      "metadata": {
        "colab": {
          "base_uri": "https://localhost:8080/"
        },
        "id": "dRGz3f7UUQdC",
        "outputId": "abb02f06-8c17-40b2-d5d7-a42339a874c2"
      },
      "source": [
        "summary = article.summary\n",
        "print(summary)"
      ],
      "execution_count": 21,
      "outputs": [
        {
          "output_type": "stream",
          "text": [
            "Asked about ongoing fighting, TPLF head Debretsion Gebremichael said in a text: “Yes.\n",
            "Though outnumbered and expelled from their capital, the Tigrayans can exploit their mountainous terrain and long borders with Sudan and Eritrea.\n",
            "REFUGEESThe U.N. refugee agency appealed for access to 96,000 Eritrean refugees in Tigray, where food was thought to be running out.\n",
            "In a speech to parliament on Monday, Abiy urged the more than 45,000 Ethiopians who fled into Sudan to return.\n",
            "Refugees were saying that Ethiopian militia and soldiers were trying to impede them, he said.\n"
          ],
          "name": "stdout"
        }
      ]
    },
    {
      "cell_type": "markdown",
      "metadata": {
        "id": "eA-y3OB9UqyJ"
      },
      "source": [
        ""
      ]
    }
  ]
}